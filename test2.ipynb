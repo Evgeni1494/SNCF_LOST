{
 "cells": [
  {
   "cell_type": "code",
   "execution_count": 1,
   "metadata": {},
   "outputs": [
    {
     "ename": "AttributeError",
     "evalue": "partially initialized module 'streamlit' has no attribute 'multiselect' (most likely due to a circular import)",
     "output_type": "error",
     "traceback": [
      "\u001b[0;31m---------------------------------------------------------------------------\u001b[0m",
      "\u001b[0;31mAttributeError\u001b[0m                            Traceback (most recent call last)",
      "Cell \u001b[0;32mIn[1], line 3\u001b[0m\n\u001b[1;32m      1\u001b[0m \u001b[39mimport\u001b[39;00m \u001b[39msqlite3\u001b[39;00m\n\u001b[1;32m      2\u001b[0m \u001b[39mimport\u001b[39;00m \u001b[39mpandas\u001b[39;00m \u001b[39mas\u001b[39;00m \u001b[39mpd\u001b[39;00m\n\u001b[0;32m----> 3\u001b[0m \u001b[39mimport\u001b[39;00m \u001b[39mstreamlit\u001b[39;00m \u001b[39mas\u001b[39;00m \u001b[39mst\u001b[39;00m\n\u001b[1;32m      4\u001b[0m \u001b[39mimport\u001b[39;00m \u001b[39mplotly\u001b[39;00m\u001b[39m.\u001b[39;00m\u001b[39mexpress\u001b[39;00m \u001b[39mas\u001b[39;00m \u001b[39mpx\u001b[39;00m\n\u001b[1;32m      5\u001b[0m \u001b[39mfrom\u001b[39;00m \u001b[39mdatetime\u001b[39;00m \u001b[39mimport\u001b[39;00m datetime, timedelta\n",
      "File \u001b[0;32m~/Documents/DEV_IA/SNCF_BRIEF/SNCF_LOST/streamlit.py:14\u001b[0m\n\u001b[1;32m     11\u001b[0m types_objets \u001b[39m=\u001b[39m pd\u001b[39m.\u001b[39mread_sql_query(\u001b[39m\"\u001b[39m\u001b[39mSELECT DISTINCT TypeObjet FROM ObjetPerdu\u001b[39m\u001b[39m\"\u001b[39m, conn)[\u001b[39m'\u001b[39m\u001b[39mTypeObjet\u001b[39m\u001b[39m'\u001b[39m]\u001b[39m.\u001b[39mtolist()\n\u001b[1;32m     13\u001b[0m \u001b[39m# Afficher une liste déroulante pour sélectionner les types d'objets à inclure dans l'histogramme\u001b[39;00m\n\u001b[0;32m---> 14\u001b[0m selected_types \u001b[39m=\u001b[39m st\u001b[39m.\u001b[39;49mmultiselect(\u001b[39m\"\u001b[39m\u001b[39mSélectionnez les types d\u001b[39m\u001b[39m'\u001b[39m\u001b[39mobjets à inclure dans l\u001b[39m\u001b[39m'\u001b[39m\u001b[39mhistogramme\u001b[39m\u001b[39m\"\u001b[39m, types_objets)\n\u001b[1;32m     16\u001b[0m \u001b[39m# Calculer la somme des objets trouvés par semaine entre 2019 et 2022\u001b[39;00m\n\u001b[1;32m     17\u001b[0m df_objets \u001b[39m=\u001b[39m pd\u001b[39m.\u001b[39mread_sql_query(\u001b[39m\"\u001b[39m\u001b[39mSELECT Date, TypeObjet, COUNT(*) AS NbObjets FROM ObjetPerdu WHERE AnneePerte BETWEEN 2019 AND 2022 GROUP BY Date, TypeObjet\u001b[39m\u001b[39m\"\u001b[39m, conn)\n",
      "\u001b[0;31mAttributeError\u001b[0m: partially initialized module 'streamlit' has no attribute 'multiselect' (most likely due to a circular import)"
     ]
    }
   ],
   "source": [
    "import sqlite3\n",
    "import pandas as pd\n",
    "import streamlit as st\n",
    "import plotly.express as px\n",
    "from datetime import datetime, timedelta\n",
    "\n",
    "# Se connecter à la base de données\n",
    "conn = sqlite3.connect('SNCF_LOST.db')\n",
    "\n",
    "# Récupérer la liste des types d'objets disponibles dans la table \"ObjetPerdu\"\n",
    "types_objets = pd.read_sql_query(\"SELECT DISTINCT TypeObjet FROM ObjetPerdu\", conn)['TypeObjet'].tolist()\n",
    "\n",
    "# Afficher une liste déroulante pour sélectionner les types d'objets à inclure dans l'histogramme\n",
    "selected_types = st.multiselect(\"Sélectionnez les types d'objets à inclure dans l'histogramme\", types_objets)\n",
    "\n",
    "# Calculer la somme des objets trouvés par semaine entre 2019 et 2022\n",
    "df_objets = pd.read_sql_query(\"SELECT Date, TypeObjet, COUNT(*) AS NbObjets FROM ObjetPerdu WHERE AnneePerte BETWEEN 2019 AND 2022 GROUP BY Date, TypeObjet\", conn)\n",
    "df_objets['Date'] = pd.to_datetime(df_objets['Date'])\n",
    "df_objets = df_objets.groupby([pd.Grouper(key='Date', freq='W-MON'), 'TypeObjet']).sum().reset_index()\n",
    "df_objets['Semaine'] = df_objets['Date'].dt.strftime('%Y-%m-%d')\n",
    "\n",
    "# Filtrer les données en fonction des types d'objets sélectionnés\n",
    "if selected_types:\n",
    "    df_objets = df_objets[df_objets['TypeObjet'].isin(selected_types)]\n",
    "\n",
    "# Afficher l'histogramme avec Plotly\n",
    "fig = px.histogram(df_objets, x='Semaine', y='NbObjets', color='TypeObjet', nbins=len(df_objets['Semaine'].unique()), labels={'Semaine': 'Semaine (année-mois-jour)', 'NbObjets': 'Nombre d\\'objets trouvés'})\n",
    "fig.update_layout(title=\"Répartition du nombre d'objets trouvés par semaine entre 2019 et 2022\")\n",
    "st.plotly_chart(fig)"
   ]
  },
  {
   "cell_type": "code",
   "execution_count": null,
   "metadata": {},
   "outputs": [],
   "source": [
    "# Connexion à la base de données\n",
    "conn = sqlite3.connect('SNCF_LOST.db')\n",
    "cur = conn.cursor()\n",
    "\n",
    "# Requête SQL pour récupérer le nombre d'objets trouvés par semaine\n",
    "query = \"\"\"\n",
    "SELECT strftime('%Y-%W', Date) AS Semaine, COUNT(*) AS NbObjets\n",
    "FROM ObjetPerdu\n",
    "WHERE AnneePerte >= 2019 AND AnneePerte <= 2022\n",
    "GROUP BY Semaine\n",
    "\"\"\"\n",
    "\n",
    "# Récupération des données dans un DataFrame pandas\n",
    "df = pd.read_sql_query(query, conn)\n",
    "\n",
    "# Création du graphique avec Plotly\n",
    "fig = px.histogram(df, x=\"Semaine\", y=\"NbObjets\", nbins=len(df), width=1000, height=500)\n",
    "\n",
    "# Affichage du graphique avec Streamlit\n",
    "st.plotly_chart(fig, use_container_width=True)"
   ]
  },
  {
   "cell_type": "code",
   "execution_count": null,
   "metadata": {},
   "outputs": [],
   "source": [
    "import sqlite3\n",
    "import pandas as pd\n",
    "import folium\n",
    "import streamlit as st\n",
    "\n",
    "# Étape 1: Importer les bibliothèques nécessaires\n",
    "\n",
    "# Étape 2: Récupérer les données de la table \"Gare\"\n",
    "conn = sqlite3.connect('/home/apprenant/Documents/DEV_IA/SNCF_BRIEF/SNCF_LOST/SNCF_LOST.db')\n",
    "df_gare = pd.read_sql_query(\"SELECT * from Gare\", conn)\n",
    "\n",
    "# Étape 3: Récupérer les données de la table \"ObjetPerdu\"\n",
    "df_objet = pd.read_sql_query(\"SELECT * from ObjetPerdu\", conn)\n",
    "\n",
    "# Étape 4: Créer une carte folium centrée sur Paris\n",
    "m = folium.Map(location=[48.8566, 2.3522], zoom_start=12)\n",
    "\n",
    "# Étape 5: Calculer le nombre total d'objets perdus pour chaque gare\n",
    "for i, row in df_gare.iterrows():\n",
    "    nom_gare = row['Nom']\n",
    "    freq_2019 = row['Freq_2019']\n",
    "    freq_2020 = row['Freq_2020']\n",
    "    freq_2021 = row['Freq_2021']\n",
    "    freq_2022 = row['Freq_2022']\n",
    "    longitude = row['Longitude']\n",
    "    latitude = row['Latitude']\n",
    "    \n",
    "    objets_par_gare = {}\n",
    "    for annee in ['2019', '2020', '2021', '2022']:\n",
    "        objets_par_gare[annee] = {}\n",
    "        for objet in df_objet['TypeObjet'].unique():\n",
    "            objets_par_gare[annee][objet] = df_objet[(df_objet['GarePerte'] == nom_gare) & (df_objet['AnneePerte'] == annee) & (df_objet['TypeObjet'] == objet)].shape[0]\n",
    "    \n",
    "    # Étape 6: Ajouter un marqueur à la carte pour chaque gare\n",
    "    if st.sidebar.checkbox(nom_gare):\n",
    "        if st.sidebar.checkbox('Afficher le nombre d\\'objets trouvés par année'):\n",
    "            for annee in objets_par_gare.keys():\n",
    "                st.sidebar.write('Année : ', annee)\n",
    "                for objet in objets_par_gare[annee].keys():\n",
    "                    st.sidebar.write(objet, ':', objets_par_gare[annee][objet])\n",
    "        else:\n",
    "            freq = freq_2022\n",
    "            st.sidebar.write('Fréquence en 2022:', freq)\n",
    "            \n",
    "        marker = folium.Marker(\n",
    "            location=[latitude, longitude],\n",
    "            popup=nom_gare + ': ' + str(freq),\n",
    "            icon=folium.Icon(color='red')\n",
    "        )\n",
    "        marker.add_to(m)\n",
    "    \n",
    "\n",
    "    # Afficher la carte\n",
    "    st.write(m)"
   ]
  }
 ],
 "metadata": {
  "kernelspec": {
   "display_name": "base",
   "language": "python",
   "name": "python3"
  },
  "language_info": {
   "codemirror_mode": {
    "name": "ipython",
    "version": 3
   },
   "file_extension": ".py",
   "mimetype": "text/x-python",
   "name": "python",
   "nbconvert_exporter": "python",
   "pygments_lexer": "ipython3",
   "version": "3.10.8"
  },
  "orig_nbformat": 4,
  "vscode": {
   "interpreter": {
    "hash": "d25f34363254810493f69e19f8fea8925d807b842d2c9e5aec83143d940402f1"
   }
  }
 },
 "nbformat": 4,
 "nbformat_minor": 2
}
